{
 "cells": [
  {
   "cell_type": "markdown",
   "metadata": {
    "id": "yXKsH-xhVf9J"
   },
   "source": [
    "# Distributional Semantics Recap\n",
    "\n",
    "Word representations\n",
    "* Syntagmatic similarity\n",
    "* Paradigmatic similarity\n",
    "\n",
    "Document representations\n",
    "* The same topic (parsing/machine translation)\n",
    "* The same kind of review (positive/negative)\n",
    "\n",
    "The successes of distributional semantic models like Latent Semantic Analysis, word2vec, Latent Dirichlet Allocation/topic models, and large language models like BERT, RoBERTa, GPT-2, and so on, have highlighted how much **statistical regularity** there is in language corpora.\n",
    "\n",
    "In addition to being able to represent the meanings of **words as vectors**, they can represent relationships between words in larger scale **documents** as vectors as well. Both word and document embeddings allow us to use knowledge from all the words we know to better guess how a word will be used.\n",
    "\n",
    "However, these models do not solve at least one critical issue: We often want to know more than just what words are in a document. We want to know how they go together. More importantly, we often want to build systems that computers can _interact with_. For that, we need to build something that can really understand the meaning of a text."
   ]
  },
  {
   "cell_type": "markdown",
   "metadata": {
    "id": "tQODT3NQQIk0"
   },
   "source": [
    "# Toward logical semantics\n",
    "\n",
    "Last time, we talked about how important it is to build systems that can understand language beyond the individual word. We want to be able to **compose** the meanings of complex language so that we can understand the full picture of what an utterance, sentence, paragraph, document, etc., is about. The higher-level representation we are trying to obtain is called a **proposition** and it allows us to express facts about the world.\n",
    "\n",
    "Any agent or system we build that has human-like language understanding should be able to answer questions like this:\n",
    "\n",
    "1. Does Starbucks serve vegetarian food?\n",
    "\n",
    "Most of us would probably say that (1) is true, because Starbucks sells food that is vegetarian -- which is food that does not contain meat. Here are some other questions that express something roughly equivalent, or which share a **canonical form**. If two things have the same canonical form, they encode roughly the same propositions.\n",
    "\n",
    "2. Does Starbucks have vegetarian dishes?\n",
    "2. Do they have vegetarian food at Starbucks?\n",
    "3. Are vegetarian dishes served at Starbucks?\n",
    "4. Does Starbucks serve vegetarian fare?\n",
    "\n",
    "We can think of each of these questions as asking us something about the state of the world. In **logical semantics** we often want to know whether something is **true** or **false**. \n",
    "\n",
    "In order to solve these questions, we need to talk about sets, and how these can relate to natural language."
   ]
  },
  {
   "cell_type": "markdown",
   "metadata": {
    "id": "_AUQ1qUzyBqv"
   },
   "source": [
    "## What is a set?\n",
    "\n",
    "A **set** is an object that contains unique entities, or **elements**. In formal mathematics, these could be \"the set of all integers\" or \"the set of all real numbers\", \"the set of numbers divisible by exactly two prime numbers\", and so on. \n",
    "\n",
    "In order to understand natural language, we often use sets to characterize things in the real world. For example, we have used set on Homework 3 to talk about:\n",
    "\n",
    "* All words that contain the suffix \"-s\"\n",
    "* All words that share no morphemes with the word \"transformations\"\n",
    "* The set of words that share exactly two morphemes with \"transformations\"\n",
    "\n"
   ]
  },
  {
   "cell_type": "code",
   "execution_count": 1,
   "metadata": {
    "cellView": "form",
    "id": "MseZCd7WzoF6"
   },
   "outputs": [],
   "source": [
    "#@title Venn diagram of morphology\n",
    "!pip install matplotlib_venn\n",
    "from matplotlib_venn import venn2\n",
    "import matplotlib.pyplot as plt"
   ]
  },
  {
   "cell_type": "code",
   "execution_count": 2,
   "metadata": {
    "cellView": "form",
    "colab": {
     "base_uri": "https://localhost:8080/",
     "height": 250
    },
    "id": "9lGceSfczvY4",
    "outputId": "c449a74c-5fa4-4e8b-b956-fa3a967b7f1e"
   },
   "outputs": [
    {
     "data": {
      "image/png": "[encoded data removed]",
      "text/plain": [
       "<Figure size 432x288 with 1 Axes>"
      ]
     },
     "metadata": {},
     "output_type": "display_data"
    }
   ],
   "source": [
    "#@title\n",
    "venn2(subsets = (100, 60, 30), set_labels = ('Words ending in -s', 'Words ending in -tion'))\n",
    "plt.show()"
   ]
  },
  {
   "cell_type": "markdown",
   "metadata": {
    "id": "WTZ-h_a00ySB"
   },
   "source": [
    "## Sets allow us to relate entities to each other\n",
    "\n",
    "* The set of all cats\n",
    "* The set of all cats named Vector\n",
    "* The set of all pets named Vector\n",
    "\n",
    "```python\n",
    "pet_names = {'cats': set(['Vector', 'Fluffy', 'Minou']}\n",
    "```"
   ]
  },
  {
   "cell_type": "code",
   "execution_count": 2,
   "metadata": {
    "colab": {
     "base_uri": "https://localhost:8080/"
    },
    "id": "dcQ5N3C61fLB",
    "outputId": "70ac9a23-58a2-4ebd-b55c-e3d18a7d85b7"
   },
   "outputs": [
    {
     "data": {
      "text/plain": [
       "{'Fluffy', 'Minou', 'Vector'}"
      ]
     },
     "execution_count": 2,
     "metadata": {},
     "output_type": "execute_result"
    }
   ],
   "source": [
    "pet_names = {\n",
    "  'cats': set(['Vector', 'Fluffy', 'Minou']),\n",
    "  'dogs': set(['Fido', 'Cumin', 'Jake']),\n",
    "  'fish': set(['Nemo', 'Dory', 'Jaws'])\n",
    "}\n",
    "\n",
    "pet_names['cats']"
   ]
  },
  {
   "cell_type": "markdown",
   "metadata": {
    "id": "oX9Ihbuj6lSH"
   },
   "source": [
    "We can also add elements to the set of cat names. Do you have a cat name you would like to add to the list?"
   ]
  },
  {
   "cell_type": "code",
   "execution_count": 3,
   "metadata": {
    "colab": {
     "base_uri": "https://localhost:8080/"
    },
    "id": "WucPs8p96lCp",
    "outputId": "8cc7777c-fba6-4b31-d32d-dac59226cf41"
   },
   "outputs": [
    {
     "data": {
      "text/plain": [
       "{'Blossom', 'Fluffy', 'Garfunkle', 'Minou', 'Paul', 'Vector'}"
      ]
     },
     "execution_count": 3,
     "metadata": {},
     "output_type": "execute_result"
    }
   ],
   "source": [
    "pet_names['cats'].add(\"Blossom\")\n",
    "pet_names['cats'].add(\"Garfunkle\")\n",
    "pet_names['cats'].add(\"Paul\")\n",
    "pet_names['cats']"
   ]
  },
  {
   "cell_type": "markdown",
   "metadata": {
    "id": "5_5jTkEW629P"
   },
   "source": [
    "Now what did we just do here? \n",
    "\n",
    "First, you had to think of:\n",
    "\n",
    "* The set of cats (what counts as a cat)\n",
    "* The set of cats you know (which cats have you learned about or met)\n",
    "\n",
    "These two steps required **subsetting** what you know about the world. Indeed, we are interested in only _some_ elements from a set at a time. It would be strange if you intentionally wanted to add a dog's name to the list of cat names.\n",
    "\n",
    "We have used subsets on our homework, too! For example, when using only values from some keys in a dictionary:\n",
    "\n",
    "```python\n",
    "pet_names = {\n",
    "  'cats': set(['Vector', 'Fluffy', 'Minou']),\n",
    "  'dogs': set(['Fido', 'Cumin', 'Jake']),\n",
    "  'fish': set(['Nemo', 'Dory', 'Jaws'])\n",
    "}\n",
    "```\n",
    "\n",
    "Requesting the `'cats'` entry in `pet_names` will give us `set(['Vector', 'Fluffy', 'Minou'])`.\n",
    "\n"
   ]
  },
  {
   "cell_type": "markdown",
   "metadata": {
    "id": "6GMfNwqO76Vf"
   },
   "source": [
    "### Handling naturalistic queries\n",
    "\n",
    "Consider a query not too unlike the Starbucks example earlier:\n",
    "\n",
    "* Can I name my cat Dory?\n",
    "\n",
    "Intuitively, we as humans would probably say yes to these questions because we can name cats anything. It is a pretty easy question for us to answer, too. \n",
    "\n",
    "If we assume that the above dictionary is a set of rules, however, then the set of names for `'cats'` in `pet_names` does not include `'Dory'` as a **member**. So, unless we change the rules, we must use a different set of names.\n",
    "\n",
    "### How did we do this computation?\n",
    "\n",
    "1. Specify the set of pet names\n",
    "2. Specify pet names by species (cats, dogs, or fish)\n",
    "3. Figure out that the phrase \"my cat\" is a pet and a cat\n",
    "4. Figure out that \"Dory\" is a kind of name\n",
    "5. Figure out that we want to see if \"Dory\" is a valid cat name"
   ]
  },
  {
   "cell_type": "markdown",
   "metadata": {
    "id": "hPQLpsFxFED7"
   },
   "source": [
    "## Critical set operations\n",
    "\n",
    "* **Intersection**\n",
    "```python\n",
    "set_a = set(['a'])\n",
    "set_b = set(['b'])\n",
    "print(set_a.intersection(set_b))\n",
    "```\n",
    "\n",
    "* **Union**\n",
    "```python\n",
    "set_a = set(['a'])\n",
    "set_b = set(['b'])\n",
    "print(set_a.union(set_b))\n",
    "```\n",
    "\n",
    "* **Difference** -- Set of elements in `set_a` but not in `set_b`.\n",
    "```python\n",
    "set_a = set(['a'])\n",
    "set_b = set(['b'])\n",
    "print(set_a.difference(set_b))\n",
    "```\n"
   ]
  },
  {
   "cell_type": "code",
   "execution_count": 4,
   "metadata": {
    "colab": {
     "base_uri": "https://localhost:8080/"
    },
    "id": "mXYBOxRuFO9D",
    "outputId": "0af895c2-883b-4f11-d077-673f704191dd"
   },
   "outputs": [
    {
     "name": "stdout",
     "output_type": "stream",
     "text": [
      "Intersection         : set()\n",
      "Union                : {'b', 'a'}\n",
      "Difference           : {'a'}\n",
      "Symmetric difference : {'b', 'a'}\n"
     ]
    }
   ],
   "source": [
    "set_a = set(['a'])\n",
    "set_b = set(['b'])\n",
    "print(f\"Intersection         : {set_a.intersection(set_b)}\")\n",
    "print(f\"Union                : {set_a.union(set_b)}\")\n",
    "print(f\"Difference           : {set_a.difference(set_b)}\")\n",
    "print(f\"Symmetric difference : {set_a.symmetric_difference(set_b)}\")"
   ]
  },
  {
   "cell_type": "markdown",
   "metadata": {
    "id": "GLfzq2jP76Dd"
   },
   "source": [
    "## Understanding propositions\n",
    "\n",
    "Let's go back to the Starbucks example.\n",
    "\n",
    "* Does Starbucks serve vegetarian food?\n",
    "\n",
    "If we start thinking about things in terms of sets, we now know we have to define:\n",
    "\n",
    "* The set of things that count as vegetarian food\n",
    "  * i.e., the set of foods that are OK for vegetarians to eat\n",
    "* the set of foods that Starbucks carries\n",
    "  * i.e., the foods on their menu\n",
    "\n",
    "So, if Starbucks does in fact serve vegetarian food, what set operations do we need to use?\n",
    "\n",
    "We need to assess the truth of the following:\n",
    "\n",
    "`Serves(Starbucks, VegetarianFood)` where `Serves(..., ...)` is a **predicate** and `Starbucks` and `VegetarianFood` are two **arguments** that fulfill that predicate's semantic roles. In this case, the first argument is \"who\" serves, and the second argument is what is being served.\n",
    "\n",
    "Ultimately, the goal of these logic-based approaches is to resolve `Serves(Starbucks, VegetarianFood)` to either true or false.\n",
    "\n",
    "Predicates can be a wide variety of things! They don't just have to be verbs. Consider:\n",
    "\n",
    "* Starbucks is a coffee shop.\n",
    "* Vector is a cat.\n",
    "\n",
    "These can be broken down into the following:\n",
    "\n",
    "* `CoffeeShop(Starbucks)`\n",
    "* `Cat(Vector)`"
   ]
  },
  {
   "cell_type": "code",
   "execution_count": 32,
   "metadata": {
    "cellView": "form",
    "colab": {
     "base_uri": "https://localhost:8080/",
     "height": 250
    },
    "id": "7U5fu7d7BFih",
    "outputId": "99e5eb4d-102f-4fea-fd2b-7b965bd666f2"
   },
   "outputs": [
    {
     "data": {
      "image/png": "[encoded data removed]",
      "text/plain": [
       "<Figure size 432x288 with 1 Axes>"
      ]
     },
     "metadata": {},
     "output_type": "display_data"
    }
   ],
   "source": [
    "#@title Vegetarian food and Starbucks menu items\n",
    "venn2(subsets = (2000, 60, 30), set_labels = ('Vegetarian foods', 'Food Starbucks sells'))\n",
    "plt.show()"
   ]
  },
  {
   "cell_type": "markdown",
   "metadata": {
    "id": "ridH9yLE7zj2"
   },
   "source": [
    "We are often interested in subset of our data, or in estimating **probabilities** that are conditioned on some property of our data. \n",
    "\n",
    "\n",
    "<details>\n",
    "<summary>\n",
    "Quick self-assessment: If we wanted to turn these circles into probabilities, what would the conditional probability of Starbucks selling vegetarian food be?\n",
    "</summary>\n",
    "30 of the 90 items that Starbucks carries are vegetarian. So, $p(\\text{vegetarian} | \\text{Starbucks}) = .33...$\n",
    "</details>\n",
    "\n",
    "<details>\n",
    "<summary>\n",
    "And what proportion of vegetarian foods are available at Starbucks?\n",
    "</summary>\n",
    "30 of all of the 2030 vegetarian foods are available at Starbucks. So, $p(\\text{Starbucks} | \\text{vegetarian}) = .01...$\n",
    "</details>"
   ]
  },
  {
   "cell_type": "markdown",
   "metadata": {
    "id": "LClUu1m3752G"
   },
   "source": [
    "## Implicature\n",
    "\n",
    "While we can say that Starbucks serves vegetarian food, it is clear that the real-world Starbucks is not a vegetarian restaurant. Why is this the case?\n",
    "\n",
    "In order for Starbucks to become one, we need to imagine another possible world where Starbucks changes their policy and no longer sells products that contain meat. Then, the proposition expressed by, \"Starbucks is a vegetarian restaurant\" (`VegetarianRestaurant(Starbucks)`) would be true when it was false before. \n",
    "\n",
    "This is because\n",
    "\n",
    "`VegetarianRestaurant(Starbucks)` $\\Rightarrow$ `Serves(Starbucks, VegetarianFood)`\n",
    "\n",
    "If Starbucks were a vegetarian restaurant, then it would imply that it serves vegetarian food. Note, however, that it does **not** work in the other direction: \n",
    "\n",
    "`Serves(Starbucks, VegetarianFood)` $\\not\\Rightarrow$ `VegetarianRestaurant(Starbucks)`"
   ]
  },
  {
   "cell_type": "markdown",
   "metadata": {
    "id": "YLDmC1gJY64h"
   },
   "source": [
    "## Quantifiers\n",
    "\n",
    "Quantifiers allow us to express predicates with **variable** arguments. For example, consider:\n",
    "\n",
    "* All vegetarian restaurants serve vegetarian food\n",
    "* Some restaurants serve vegetarian food\n",
    "\n",
    "For these statements to turn up true or false, the identity of each `Restaurant` needs to be a variable. We might try to rephrase \"all...\" as:\n",
    "\n",
    "$\\forall_x$ `VegetarianRestaurant(x)` $\\Rightarrow$ `Serves(x, VegetarianFood)`\n",
    "\n",
    "or, for \"some\" to work:\n",
    "\n",
    "$\\exists_x$ `Restaurant(x)` $\\Rightarrow$ `Serves(x, VegetarianFood)`"
   ]
  },
  {
   "cell_type": "markdown",
   "metadata": {
    "id": "2zzlFh1idmE4"
   },
   "source": [
    "# Reminder\n",
    "\n",
    "HW4 due Friday October 29 by midnight. Note that you will probably want to do some reading to answer the free response questions :)\n",
    "\n",
    "Fill out the Qualtrics survey -- we will be reaching out to you to help you flesh out your final paper very shortly after you submit so that you have the best chances of doing a great job on the final paper.\n",
    "\n",
    "## Wednesday:\n",
    "\n",
    "* Semantic roles\n",
    "* Semantic role labeling/classification using RoBERTa\n"
   ]
  }
 ],
 "metadata": {
  "colab": {
   "collapsed_sections": [],
   "name": "semantics_first_order_logic.ipynb",
   "provenance": []
  },
  "kernelspec": {
   "display_name": "Python 3",
   "language": "python",
   "name": "python3"
  },
  "language_info": {
   "codemirror_mode": {
    "name": "ipython",
    "version": 3
   },
   "file_extension": ".py",
   "mimetype": "text/x-python",
   "name": "python",
   "nbconvert_exporter": "python",
   "pygments_lexer": "ipython3",
   "version": "3.8.8"
  }
 },
 "nbformat": 4,
 "nbformat_minor": 1
}
